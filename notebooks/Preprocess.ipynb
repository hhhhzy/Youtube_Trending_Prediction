{
  "nbformat": 4,
  "nbformat_minor": 0,
  "metadata": {
    "colab": {
      "name": "Preprocess",
      "provenance": [],
      "collapsed_sections": []
    },
    "kernelspec": {
      "name": "python3",
      "display_name": "Python 3"
    }
  },
  "cells": [
    {
      "cell_type": "code",
      "metadata": {
        "colab": {
          "base_uri": "https://localhost:8080/"
        },
        "id": "fAE8W5jt5SWn",
        "outputId": "29b0d5a9-55e6-4b32-bbd9-8418cf67cfe5"
      },
      "source": [
        "from google.colab import drive\n",
        "drive.mount('/content/drive')"
      ],
      "execution_count": 1,
      "outputs": [
        {
          "output_type": "stream",
          "text": [
            "Mounted at /content/drive\n"
          ],
          "name": "stdout"
        }
      ]
    },
    {
      "cell_type": "code",
      "metadata": {
        "colab": {
          "base_uri": "https://localhost:8080/"
        },
        "id": "bX0nE-EA5WKZ",
        "outputId": "c7e793a4-2baf-4879-c2e3-d7cfa3a00096"
      },
      "source": [
        "cd /content/drive/My Drive/1001 Final Project"
      ],
      "execution_count": 2,
      "outputs": [
        {
          "output_type": "stream",
          "text": [
            "/content/drive/My Drive/1001 Final Project\n"
          ],
          "name": "stdout"
        }
      ]
    },
    {
      "cell_type": "code",
      "metadata": {
        "id": "nKSCRIMx5-2t"
      },
      "source": [
        "import sys\n",
        "\n",
        "path_to_utils = 'pyfiles'\n",
        "sys.path.append(path_to_utils)"
      ],
      "execution_count": 3,
      "outputs": []
    },
    {
      "cell_type": "code",
      "metadata": {
        "id": "I0Oqvb2J6HxQ"
      },
      "source": [
        "import pandas as pd\n",
        "import numpy as np\n",
        "import os\n",
        "\n",
        "import text2vec\n",
        "import preprocessings\n",
        "import helpfunctions"
      ],
      "execution_count": 4,
      "outputs": []
    },
    {
      "cell_type": "code",
      "metadata": {
        "colab": {
          "base_uri": "https://localhost:8080/"
        },
        "id": "L3OeAocE6wYZ",
        "outputId": "8c146097-5b3c-43d5-9179-06ae0e73cd0b"
      },
      "source": [
        "df_1125 = preprocessings.get_preprocessed_data('./data/US_videos_1125.csv', './glove.twitter.27B.50d.txt', num_labels = 10)"
      ],
      "execution_count": 5,
      "outputs": [
        {
          "output_type": "stream",
          "text": [
            "Done. 1192095 words loaded!\n"
          ],
          "name": "stdout"
        }
      ]
    },
    {
      "cell_type": "code",
      "metadata": {
        "colab": {
          "base_uri": "https://localhost:8080/"
        },
        "id": "hw5sNnNIIhV6",
        "outputId": "5ab5073b-b312-4e33-8d00-088c40626a6f"
      },
      "source": [
        "df_1129 = preprocessings.get_preprocessed_data('./data/US_videos_1129.csv', './glove.twitter.27B.50d.txt', num_labels = 10)"
      ],
      "execution_count": 6,
      "outputs": [
        {
          "output_type": "stream",
          "text": [
            "Done. 1192095 words loaded!\n"
          ],
          "name": "stdout"
        }
      ]
    },
    {
      "cell_type": "code",
      "metadata": {
        "id": "n4qxnLKd7Gv4"
      },
      "source": [
        "df = pd.concat([df_1125,df_1129])"
      ],
      "execution_count": 7,
      "outputs": []
    },
    {
      "cell_type": "code",
      "metadata": {
        "colab": {
          "base_uri": "https://localhost:8080/",
          "height": 1000
        },
        "id": "uvt-M9CeLJTz",
        "outputId": "4fbcb9e5-292a-4fbe-a95c-f5d128c554ab"
      },
      "source": [
        "df"
      ],
      "execution_count": 8,
      "outputs": [
        {
          "output_type": "execute_result",
          "data": {
            "text/html": [
              "<div>\n",
              "<style scoped>\n",
              "    .dataframe tbody tr th:only-of-type {\n",
              "        vertical-align: middle;\n",
              "    }\n",
              "\n",
              "    .dataframe tbody tr th {\n",
              "        vertical-align: top;\n",
              "    }\n",
              "\n",
              "    .dataframe thead th {\n",
              "        text-align: right;\n",
              "    }\n",
              "</style>\n",
              "<table border=\"1\" class=\"dataframe\">\n",
              "  <thead>\n",
              "    <tr style=\"text-align: right;\">\n",
              "      <th></th>\n",
              "      <th>title</th>\n",
              "      <th>categoryId</th>\n",
              "      <th>tags</th>\n",
              "      <th>comments_disabled</th>\n",
              "      <th>ratings_disabled</th>\n",
              "      <th>description</th>\n",
              "      <th>category_name</th>\n",
              "      <th>time_gap</th>\n",
              "      <th>likes_log</th>\n",
              "      <th>view_count_log</th>\n",
              "      <th>dislikes_log</th>\n",
              "      <th>comment_log</th>\n",
              "      <th>title_embedded</th>\n",
              "      <th>tags_embedded</th>\n",
              "      <th>description_embedded</th>\n",
              "      <th>label</th>\n",
              "    </tr>\n",
              "  </thead>\n",
              "  <tbody>\n",
              "    <tr>\n",
              "      <th>0</th>\n",
              "      <td>GAME  (Full Video)  Shooter Kahlon | Sidhu Moo...</td>\n",
              "      <td>10</td>\n",
              "      <td>sidhu moose wala|game official video|shooter k...</td>\n",
              "      <td>0</td>\n",
              "      <td>0</td>\n",
              "      <td>5911 Records Presents.Song : GameSinger/Lyrics...</td>\n",
              "      <td>Music</td>\n",
              "      <td>82</td>\n",
              "      <td>14.295208</td>\n",
              "      <td>17.863887</td>\n",
              "      <td>11.274034</td>\n",
              "      <td>15.418999</td>\n",
              "      <td>[2.648884, -0.3739800000000001, -1.72291900000...</td>\n",
              "      <td>[-3.41169, 1.1917, 1.22215, -0.174625999999999...</td>\n",
              "      <td>[0.7334839999999996, 9.22834, -3.5305400000000...</td>\n",
              "      <td>9</td>\n",
              "    </tr>\n",
              "    <tr>\n",
              "      <th>1</th>\n",
              "      <td>Euro Coach Bus Simulator 2020: City Bus Drivin...</td>\n",
              "      <td>20</td>\n",
              "      <td>euro coach bus simulator 2020|driving simulato...</td>\n",
              "      <td>0</td>\n",
              "      <td>0</td>\n",
              "      <td>► Game Download Link: https://play.google.com/...</td>\n",
              "      <td>Gaming</td>\n",
              "      <td>16</td>\n",
              "      <td>8.513587</td>\n",
              "      <td>13.869953</td>\n",
              "      <td>7.499423</td>\n",
              "      <td>4.488637</td>\n",
              "      <td>[1.5120390000000001, 2.8173399999999997, -5.13...</td>\n",
              "      <td>[4.653230000000001, 5.508090000000001, -6.2458...</td>\n",
              "      <td>[27.65997700000001, 26.823343299999966, -9.223...</td>\n",
              "      <td>6</td>\n",
              "    </tr>\n",
              "    <tr>\n",
              "      <th>2</th>\n",
              "      <td>🟢Mega Ramp Car Stunts Races 3d Chevrolet Camar...</td>\n",
              "      <td>24</td>\n",
              "      <td>driving simulator|simulator games|car driving|...</td>\n",
              "      <td>0</td>\n",
              "      <td>0</td>\n",
              "      <td>Get ready for the Mega Ramp Extreme City GT Ca...</td>\n",
              "      <td>Entertainment</td>\n",
              "      <td>1</td>\n",
              "      <td>4.912656</td>\n",
              "      <td>9.736252</td>\n",
              "      <td>3.583522</td>\n",
              "      <td>-9.210340</td>\n",
              "      <td>[-2.3503861, -0.6543220000000005, -7.56152, -3...</td>\n",
              "      <td>[-1.1082020000000001, 1.731156, -7.79707570000...</td>\n",
              "      <td>[-19.88746210000004, 45.31924499999998, -24.34...</td>\n",
              "      <td>1</td>\n",
              "    </tr>\n",
              "    <tr>\n",
              "      <th>3</th>\n",
              "      <td>The Game - My Life ft. Lil Wayne (Official Mus...</td>\n",
              "      <td>10</td>\n",
              "      <td>The|Game|GEFFEN|Hip|Hop|The Game My Life</td>\n",
              "      <td>0</td>\n",
              "      <td>0</td>\n",
              "      <td>Playlist Best of The Game https://goo.gl/aqjwq...</td>\n",
              "      <td>Music</td>\n",
              "      <td>4001</td>\n",
              "      <td>13.718719</td>\n",
              "      <td>19.239367</td>\n",
              "      <td>10.845738</td>\n",
              "      <td>10.795916</td>\n",
              "      <td>[-3.6982069999999996, -0.8759910000000002, -0....</td>\n",
              "      <td>[0.890394, -0.9011199999999999, -0.20428900000...</td>\n",
              "      <td>[1.3771479999999998, 2.5515619999999997, 5.121...</td>\n",
              "      <td>9</td>\n",
              "    </tr>\n",
              "    <tr>\n",
              "      <th>4</th>\n",
              "      <td>The Game - Ryda ft. Dej Loaf (Official Music V...</td>\n",
              "      <td>10</td>\n",
              "      <td>The|Game|Ryda|eOne|Music|Rap/Hip-Hop|The Game ...</td>\n",
              "      <td>0</td>\n",
              "      <td>0</td>\n",
              "      <td>Get Ryda now on iTuneshttp://smarturl.it/RydaF...</td>\n",
              "      <td>Music</td>\n",
              "      <td>2031</td>\n",
              "      <td>13.036910</td>\n",
              "      <td>18.006057</td>\n",
              "      <td>10.011265</td>\n",
              "      <td>8.930230</td>\n",
              "      <td>[-2.745981, -1.8858720000000002, 0.35338199999...</td>\n",
              "      <td>[-0.1694, -0.9581200000000001, -0.079479000000...</td>\n",
              "      <td>[1.096048, -0.482065, 0.04584400000000005, -2....</td>\n",
              "      <td>9</td>\n",
              "    </tr>\n",
              "    <tr>\n",
              "      <th>...</th>\n",
              "      <td>...</td>\n",
              "      <td>...</td>\n",
              "      <td>...</td>\n",
              "      <td>...</td>\n",
              "      <td>...</td>\n",
              "      <td>...</td>\n",
              "      <td>...</td>\n",
              "      <td>...</td>\n",
              "      <td>...</td>\n",
              "      <td>...</td>\n",
              "      <td>...</td>\n",
              "      <td>...</td>\n",
              "      <td>...</td>\n",
              "      <td>...</td>\n",
              "      <td>...</td>\n",
              "      <td>...</td>\n",
              "    </tr>\n",
              "    <tr>\n",
              "      <th>32327</th>\n",
              "      <td>Elon Musk: The Real Life Iron Man</td>\n",
              "      <td>30</td>\n",
              "      <td>[none]</td>\n",
              "      <td>0</td>\n",
              "      <td>0</td>\n",
              "      <td>Discover the meteoric rise of Elon Musk, the m...</td>\n",
              "      <td>NaN</td>\n",
              "      <td>442</td>\n",
              "      <td>2.708057</td>\n",
              "      <td>-9.210340</td>\n",
              "      <td>-9.210340</td>\n",
              "      <td>0.000100</td>\n",
              "      <td>[-0.808243, 0.20246199999999995, 0.183581, -0....</td>\n",
              "      <td>[0.0, 0.0, 0.0, 0.0, 0.0, 0.0, 0.0, 0.0, 0.0, ...</td>\n",
              "      <td>[1.4123189999999997, 7.834232999999998, -0.228...</td>\n",
              "      <td>0</td>\n",
              "    </tr>\n",
              "    <tr>\n",
              "      <th>32328</th>\n",
              "      <td>THE SKY CALLS | Nebo zovyot | Battle Beyond Th...</td>\n",
              "      <td>1</td>\n",
              "      <td>full movie|full movie english|english|classics...</td>\n",
              "      <td>0</td>\n",
              "      <td>0</td>\n",
              "      <td>Two countries race to have the first successfu...</td>\n",
              "      <td>Film and Animation</td>\n",
              "      <td>732</td>\n",
              "      <td>5.278115</td>\n",
              "      <td>10.317417</td>\n",
              "      <td>2.833219</td>\n",
              "      <td>2.564957</td>\n",
              "      <td>[-1.2308400000000002, -2.3193980000000005, 2.0...</td>\n",
              "      <td>[-3.63346, 2.989356, -0.6513720000000001, -1.5...</td>\n",
              "      <td>[1.8476970000000004, -0.6511319999999997, 1.04...</td>\n",
              "      <td>2</td>\n",
              "    </tr>\n",
              "    <tr>\n",
              "      <th>32329</th>\n",
              "      <td>Someone Has Just Reported That Something Massi...</td>\n",
              "      <td>1</td>\n",
              "      <td>Someone|has|just|reported|that|something|massi...</td>\n",
              "      <td>0</td>\n",
              "      <td>0</td>\n",
              "      <td>Someone has just reported that something massi...</td>\n",
              "      <td>Film and Animation</td>\n",
              "      <td>28</td>\n",
              "      <td>7.961022</td>\n",
              "      <td>11.346245</td>\n",
              "      <td>5.472271</td>\n",
              "      <td>6.208590</td>\n",
              "      <td>[-0.1675629999999999, 7.675141999999999, 1.926...</td>\n",
              "      <td>[-5.12308, 21.620089999999998, -2.8477, -15.56...</td>\n",
              "      <td>[7.9321589999999995, 33.34363270000003, 14.145...</td>\n",
              "      <td>3</td>\n",
              "    </tr>\n",
              "    <tr>\n",
              "      <th>32330</th>\n",
              "      <td>SpaceX Exposed Part 2</td>\n",
              "      <td>27</td>\n",
              "      <td>[none]</td>\n",
              "      <td>0</td>\n",
              "      <td>0</td>\n",
              "      <td>Credits https://www.bitchute.com/channel/realv...</td>\n",
              "      <td>Education</td>\n",
              "      <td>174</td>\n",
              "      <td>2.995737</td>\n",
              "      <td>5.713733</td>\n",
              "      <td>0.000100</td>\n",
              "      <td>2.197236</td>\n",
              "      <td>[-1.156763, 1.65006, -0.45550899999999994, -0....</td>\n",
              "      <td>[0.0, 0.0, 0.0, 0.0, 0.0, 0.0, 0.0, 0.0, 0.0, ...</td>\n",
              "      <td>[-0.047136, 0.88222, 0.035826, -0.41139, 1.256...</td>\n",
              "      <td>0</td>\n",
              "    </tr>\n",
              "    <tr>\n",
              "      <th>32331</th>\n",
              "      <td>UFO Fleet caught near Tesla Roadster in Space</td>\n",
              "      <td>1</td>\n",
              "      <td>ufo|aliens|space|nasa|tesla|Elon Musk|spacex|v...</td>\n",
              "      <td>0</td>\n",
              "      <td>0</td>\n",
              "      <td>And what a coincidence! Elon Musk shoots his c...</td>\n",
              "      <td>Film and Animation</td>\n",
              "      <td>1031</td>\n",
              "      <td>7.558517</td>\n",
              "      <td>13.108646</td>\n",
              "      <td>7.363914</td>\n",
              "      <td>7.237059</td>\n",
              "      <td>[-4.841619999999999, 2.7874389999999996, -0.62...</td>\n",
              "      <td>[0.0, 0.0, 0.0, 0.0, 0.0, 0.0, 0.0, 0.0, 0.0, ...</td>\n",
              "      <td>[-3.2366478999999995, 5.332692000000001, 2.659...</td>\n",
              "      <td>5</td>\n",
              "    </tr>\n",
              "  </tbody>\n",
              "</table>\n",
              "<p>41258 rows × 16 columns</p>\n",
              "</div>"
            ],
            "text/plain": [
              "                                                   title  ...  label\n",
              "0      GAME  (Full Video)  Shooter Kahlon | Sidhu Moo...  ...      9\n",
              "1      Euro Coach Bus Simulator 2020: City Bus Drivin...  ...      6\n",
              "2      🟢Mega Ramp Car Stunts Races 3d Chevrolet Camar...  ...      1\n",
              "3      The Game - My Life ft. Lil Wayne (Official Mus...  ...      9\n",
              "4      The Game - Ryda ft. Dej Loaf (Official Music V...  ...      9\n",
              "...                                                  ...  ...    ...\n",
              "32327                  Elon Musk: The Real Life Iron Man  ...      0\n",
              "32328  THE SKY CALLS | Nebo zovyot | Battle Beyond Th...  ...      2\n",
              "32329  Someone Has Just Reported That Something Massi...  ...      3\n",
              "32330                              SpaceX Exposed Part 2  ...      0\n",
              "32331      UFO Fleet caught near Tesla Roadster in Space  ...      5\n",
              "\n",
              "[41258 rows x 16 columns]"
            ]
          },
          "metadata": {
            "tags": []
          },
          "execution_count": 8
        }
      ]
    },
    {
      "cell_type": "code",
      "metadata": {
        "id": "29xYERwVQzP8",
        "colab": {
          "base_uri": "https://localhost:8080/"
        },
        "outputId": "47cdbc93-47a0-4f61-c17d-bf1017359823"
      },
      "source": [
        "for i in range(10):\n",
        "  # use this to return the predicted label back to view counts\n",
        "  range_view = helpfunctions.label2views(df, label=i, num_labels=10)\n",
        "  print('The predicted views for label ' + str(i) + ' is in ' + str(range_view))"
      ],
      "execution_count": 9,
      "outputs": [
        {
          "output_type": "stream",
          "text": [
            "The predicted views for label 0 is in [0, 6737]\n",
            "The predicted views for label 1 is in [6737, 26011]\n",
            "The predicted views for label 2 is in [26011, 61420]\n",
            "The predicted views for label 3 is in [61420, 126486]\n",
            "The predicted views for label 4 is in [126486, 266864]\n",
            "The predicted views for label 5 is in [266864, 586131]\n",
            "The predicted views for label 6 is in [586131, 1362537]\n",
            "The predicted views for label 7 is in [1362537, 3552043]\n",
            "The predicted views for label 8 is in [3552043, 12274542]\n",
            "The predicted views for label 9 is in [12274542, 7083912879]\n"
          ],
          "name": "stdout"
        }
      ]
    },
    {
      "cell_type": "code",
      "metadata": {
        "id": "gRW-tEpJSboX"
      },
      "source": [
        ""
      ],
      "execution_count": null,
      "outputs": []
    }
  ]
}